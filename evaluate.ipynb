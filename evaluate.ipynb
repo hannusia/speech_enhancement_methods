{
 "cells": [
  {
   "cell_type": "code",
   "execution_count": 4,
   "metadata": {},
   "outputs": [],
   "source": [
    "import os\n",
    "from utils import snr_db, resample_signal\n",
    "import numpy as np\n",
    "from scipy.io import wavfile\n",
    "from methods import wiener_filter, spectral_subtraction\n",
    "from pesq import pesq\n",
    "from pystoi import stoi\n",
    "import matplotlib.pyplot as plt"
   ]
  },
  {
   "cell_type": "code",
   "execution_count": null,
   "metadata": {},
   "outputs": [],
   "source": [
    "directory = os.fsencode(\"noisy_testset_wav\")\n",
    "\n",
    "counter = 0\n",
    "pesq_wiener = 0\n",
    "pesq_noisy = 0\n",
    "pesq_sub = 0\n",
    "snr_wiener = 0\n",
    "snr_noisy = 0\n",
    "snr_sub = 0\n",
    "stoi_wiener = 0\n",
    "stoi_noisy = 0\n",
    "stoi_sub = 0\n",
    "\n",
    "for file in os.listdir(directory):\n",
    "    filename = os.fsdecode(file)\n",
    "    try:\n",
    "        sr_noisy, noisy = wavfile.read(f\"noisy_testset_wav/{filename}\")\n",
    "        sr_clean, clean = wavfile.read(f\"clean_testset_wav/{filename}\")\n",
    "        noisy = noisy.astype(np.float32)\n",
    "        clean = clean.astype(np.float32)\n",
    "        noisy = resample_signal(noisy, sr_noisy, 16000)\n",
    "        clean = resample_signal(clean, sr_clean, 16000)\n",
    "\n",
    "        noise_estimate = noisy[:int(0.5 * 16000)]\n",
    "        wiener_signal = wiener_filter(noisy, noise_estimate)\n",
    "        spectral_sub = spectral_subtraction(noisy, noise_estimate)\n",
    "\n",
    "        pesq_noisy += pesq(16000, clean, noisy)\n",
    "        pesq_wiener += pesq(16000, clean, wiener_signal)\n",
    "        pesq_sub += pesq(16000, clean, spectral_sub)\n",
    "        snr_noisy += snr_db(clean, noisy)\n",
    "        snr_wiener += snr_db(clean, wiener_signal)\n",
    "        snr_sub += snr_db(clean, spectral_sub)\n",
    "        stoi_noisy += stoi(clean, noisy, 16000)\n",
    "        stoi_wiener += stoi(clean, wiener_signal, 16000)\n",
    "        stoi_sub += stoi(clean, spectral_sub, 16000)\n",
    "        counter += 1\n",
    "\n",
    "    except:\n",
    "        print(filename)"
   ]
  },
  {
   "cell_type": "code",
   "execution_count": null,
   "metadata": {},
   "outputs": [],
   "source": [
    "pesq_noisy / counter, pesq_wiener / counter, pesq_sub / counter"
   ]
  },
  {
   "cell_type": "code",
   "execution_count": null,
   "metadata": {},
   "outputs": [],
   "source": [
    "snr_noisy / counter, snr_wiener / counter, snr_sub / counter"
   ]
  },
  {
   "cell_type": "code",
   "execution_count": null,
   "metadata": {},
   "outputs": [],
   "source": [
    "stoi_noisy / counter, stoi_wiener / counter, stoi_sub / counter"
   ]
  },
  {
   "cell_type": "code",
   "execution_count": null,
   "metadata": {},
   "outputs": [],
   "source": [
    "directory = os.fsencode(\"segan_results\")\n",
    "counter = 0\n",
    "pesq_segan = 0\n",
    "snr_segan = 0\n",
    "stoi_segan = 0\n",
    "\n",
    "for file in os.listdir(directory):\n",
    "    filename = os.fsdecode(file)\n",
    "    try:\n",
    "        sr_segan,segan = wavfile.read(f\"segan_results/{filename}\")\n",
    "        sr_clean, clean = wavfile.read(f\"clean_testset_wav/{filename[4:]}\")\n",
    "        segan = segan.astype(np.float32)\n",
    "        clean = clean.astype(np.float32)\n",
    "        segan = resample_signal(segan, sr_segan, 16000)\n",
    "        clean = resample_signal(clean, sr_clean, 16000)\n",
    "        pesq_segan += pesq(16000, clean, segan)\n",
    "        snr_segan += snr_db(clean, segan)\n",
    "        stoi_segan += stoi(clean, segan, 16000)\n",
    "        counter += 1\n",
    "\n",
    "    except:\n",
    "        print(filename)"
   ]
  },
  {
   "cell_type": "code",
   "execution_count": null,
   "metadata": {},
   "outputs": [],
   "source": [
    "pesq_segan / counter, snr_segan / counter, stoi_segan / counter"
   ]
  },
  {
   "cell_type": "code",
   "execution_count": 8,
   "metadata": {},
   "outputs": [],
   "source": [
    "sr_adv_segan_full, adv_segan_full = wavfile.read(f\"../raw_pred_adv_segan.wav\")\n",
    "adv_segan_full = adv_segan_full.astype(np.float32) / 32768.0 \n",
    "adv_segan_full = resample_signal(adv_segan_full, sr_adv_segan_full, 16000)\n",
    "\n",
    "directory = os.fsencode(\"../clean_testset_wav\")\n",
    "\n",
    "start = 0\n",
    "counter = 0\n",
    "pesq_adv_segan = 0\n",
    "snr_adv_segan = 0\n",
    "stoi_adv_segan = 0\n",
    "\n",
    "for file in sorted(os.listdir(directory)):\n",
    "    filename = os.fsdecode(file)\n",
    "\n",
    "    sr_clean, clean = wavfile.read(f\"../clean_testset_wav/{filename}\")\n",
    "    clean = clean.astype(np.float32)\n",
    "    clean = resample_signal(clean, sr_clean, 16000)\n",
    "    adv_segan = adv_segan_full[start:start+len(clean)]\n",
    "    start += len(clean)\n",
    "\n",
    "    pesq_sample = pesq(16000, clean, adv_segan)\n",
    "    pesq_adv_segan += pesq_sample\n",
    "    snr_adv_segan += snr_db(clean, adv_segan)\n",
    "    stoi_adv_segan += stoi(clean, adv_segan, 16000)\n",
    "\n",
    "    wavfile.write(f\"../segan_adv_results/{pesq_sample}__{filename}\", 16000, adv_segan)\n",
    "\n",
    "    counter += 1"
   ]
  },
  {
   "cell_type": "code",
   "execution_count": null,
   "metadata": {},
   "outputs": [],
   "source": [
    "directory = os.fsencode(\"wavenet_results/enhanced\")\n",
    "\n",
    "counter = 0\n",
    "pesq_wavenet = 0\n",
    "snr_wavenet = 0\n",
    "stoi_wavenet = 0\n",
    "\n",
    "for file in sorted(os.listdir(directory)):\n",
    "    filename = os.fsdecode(file)\n",
    "    try:\n",
    "        sr_wavenet,wavenet = wavfile.read(f\"wavenet_results/enhanced/{filename}\")\n",
    "        sr_clean, clean = wavfile.read(f\"clean_testset_wav/{filename}\")\n",
    "        wavenet = wavenet.astype(np.float32)\n",
    "        clean = clean.astype(np.float32)\n",
    "        wavenet = resample_signal(wavenet, sr_wavenet, 16000)\n",
    "        clean = resample_signal(clean, sr_clean, 16000)\n",
    "        pesq_wavenet += pesq(16000, clean, wavenet)\n",
    "        # snr_wavenet += snr_db(clean, wavenet)\n",
    "        print(pesq(16000, clean, wavenet))\n",
    "        # stoi_wavenet += stoi(clean, wavenet, 16000)\n",
    "        counter += 1\n",
    "\n",
    "    except:\n",
    "        print(filename)\n"
   ]
  },
  {
   "cell_type": "code",
   "execution_count": null,
   "metadata": {},
   "outputs": [],
   "source": [
    "print(counter)"
   ]
  },
  {
   "cell_type": "code",
   "execution_count": null,
   "metadata": {},
   "outputs": [],
   "source": [
    "pesq_wavenet / counter, snr_wavenet / counter, stoi_wavenet / counter"
   ]
  },
  {
   "cell_type": "code",
   "execution_count": null,
   "metadata": {},
   "outputs": [],
   "source": [
    "pesq_wavenet / counter"
   ]
  }
 ],
 "metadata": {
  "kernelspec": {
   "display_name": "env",
   "language": "python",
   "name": "python3"
  },
  "language_info": {
   "codemirror_mode": {
    "name": "ipython",
    "version": 3
   },
   "file_extension": ".py",
   "mimetype": "text/x-python",
   "name": "python",
   "nbconvert_exporter": "python",
   "pygments_lexer": "ipython3",
   "version": "3.13.1"
  },
  "orig_nbformat": 4,
  "vscode": {
   "interpreter": {
    "hash": "536d2c9dedae495f2b7f6b6b198a6e25a453a34f2f1b53a80d84f512c44e9160"
   }
  }
 },
 "nbformat": 4,
 "nbformat_minor": 2
}
